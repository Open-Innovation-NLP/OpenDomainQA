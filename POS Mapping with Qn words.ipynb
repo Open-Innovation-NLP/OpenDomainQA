{
 "cells": [
  {
   "cell_type": "code",
   "execution_count": 2,
   "metadata": {},
   "outputs": [],
   "source": [
    "import json\n",
    "from pathlib import Path\n",
    "import pandas as pd\n",
    "import spacy\n",
    "import re\n",
    "import collections\n",
    "import matplotlib.pyplot as plt\n",
    "from matplotlib import pyplot"
   ]
  },
  {
   "cell_type": "code",
   "execution_count": 3,
   "metadata": {},
   "outputs": [],
   "source": [
    "nlp = spacy.load(\"en_core_web_lg\")"
   ]
  },
  {
   "cell_type": "code",
   "execution_count": 4,
   "metadata": {},
   "outputs": [],
   "source": [
    "pd.set_option('display.max_rows', None)\n",
    "pd.set_option('display.max_columns', None)\n",
    "pd.set_option('display.max_colwidth', None)"
   ]
  },
  {
   "cell_type": "code",
   "execution_count": 69,
   "metadata": {},
   "outputs": [],
   "source": [
    "def chart(fin,ctype,label):\n",
    "    if ctype == 'pie':\n",
    "        cnt=6\n",
    "    else:\n",
    "        cnt = 20\n",
    "    counter=collections.Counter(fin)\n",
    "    counts = counter.most_common(cnt)\n",
    "    keys   = [i[0] for i in counts]\n",
    "    print(len(keys))\n",
    "    values = [i[1] for i in counts]\n",
    "    d = dict(zip(keys,values))\n",
    "    if ctype=='pie':\n",
    "        plt.figure(figsize=(5,5))\n",
    "        pyplot.pie([float(v) for v in d.values()], labels=[k for k in d.keys()],autopct=None)\n",
    "        plt.show()\n",
    "    else:\n",
    "#         plt.legend([label])\n",
    "        plt.figure(figsize=(10,10))\n",
    "        plt.xlabel(label)\n",
    "        plt.ylabel('Frequency')\n",
    "        plt.title(label)\n",
    "        plt.bar(range(len(d)), list(d.values()), align='center')\n",
    "        plt.xticks(range(len(d)), list(d.keys()))\n",
    "        for index, value in enumerate(values):\n",
    "            plt.text(index,value, str(value),rotation='vertical')\n",
    "#         plt.show()"
   ]
  },
  {
   "cell_type": "code",
   "execution_count": 7,
   "metadata": {},
   "outputs": [],
   "source": [
    "def read_squad(path):\n",
    "    path = Path(path)\n",
    "    with open(path, 'rb') as f:\n",
    "        squad_dict = json.load(f)\n",
    "\n",
    "    contexts = []\n",
    "    questions = []\n",
    "    answers = []\n",
    "    for group in squad_dict['data']:\n",
    "        for passage in group['paragraphs']:\n",
    "            context = passage['context']\n",
    "            for qa in passage['qas']:\n",
    "                question = qa['question']\n",
    "                for answer in qa['answers']:\n",
    "                    contexts.append(context)\n",
    "                    questions.append(question)\n",
    "                    answers.append(answer)\n",
    "\n",
    "    return contexts, questions, answers\n",
    "\n",
    "train_contexts, train_questions, train_answers = read_squad(r'C:\\Users\\guruvayura.ravic\\Downloads\\train-v2.0.json')"
   ]
  },
  {
   "cell_type": "code",
   "execution_count": 18,
   "metadata": {},
   "outputs": [
    {
     "data": {
      "text/plain": [
       "86821"
      ]
     },
     "execution_count": 18,
     "metadata": {},
     "output_type": "execute_result"
    }
   ],
   "source": [
    "len(train_questions)"
   ]
  },
  {
   "cell_type": "code",
   "execution_count": 8,
   "metadata": {},
   "outputs": [],
   "source": [
    "answers = [i['text'] for i in train_answers]"
   ]
  },
  {
   "cell_type": "code",
   "execution_count": 9,
   "metadata": {},
   "outputs": [],
   "source": [
    "squad_dataset = pd.DataFrame({'question':train_questions,'context':train_contexts,'answer':answers})"
   ]
  },
  {
   "cell_type": "code",
   "execution_count": 10,
   "metadata": {},
   "outputs": [],
   "source": [
    "squad_dataset['question_word'] = [i.split(' ')[0] for i in squad_dataset.question] "
   ]
  },
  {
   "cell_type": "code",
   "execution_count": 11,
   "metadata": {},
   "outputs": [],
   "source": [
    "# squad_dataset[\"context\"] = squad_dataset['context'].str.replace('[^\\w\\s]','')"
   ]
  },
  {
   "cell_type": "code",
   "execution_count": 12,
   "metadata": {},
   "outputs": [],
   "source": [
    "# squad_dataset[\"answer\"] = squad_dataset['answer'].str.replace('[^\\w\\s,]','')"
   ]
  },
  {
   "cell_type": "code",
   "execution_count": 13,
   "metadata": {},
   "outputs": [],
   "source": [
    "squad_dataset = squad_dataset.apply(lambda x: x.astype(str).str.lower())"
   ]
  },
  {
   "cell_type": "code",
   "execution_count": 23,
   "metadata": {},
   "outputs": [
    {
     "name": "stdout",
     "output_type": "stream",
     "text": [
      "10\n"
     ]
    },
    {
     "data": {
      "image/png": "[encoded data removed]",
      "text/plain": [
       "<Figure size 360x360 with 1 Axes>"
      ]
     },
     "metadata": {},
     "output_type": "display_data"
    }
   ],
   "source": [
    "fin = list(squad_dataset.question_word)\n",
    "chart(fin,'pie','Question_Word_Type')"
   ]
  },
  {
   "cell_type": "code",
   "execution_count": 49,
   "metadata": {},
   "outputs": [
    {
     "name": "stdout",
     "output_type": "stream",
     "text": [
      "4\n"
     ]
    },
    {
     "data": {
      "image/png": "[encoded data removed]",
      "text/plain": [
       "<Figure size 360x360 with 1 Axes>"
      ]
     },
     "metadata": {},
     "output_type": "display_data"
    }
   ],
   "source": [
    "squad_dataset['no_of_answers'] = [len(i.split(',')) for i in squad_dataset.answer]\n",
    "fin = list(squad_dataset.no_of_answers)\n",
    "chart(fin,'pie','number of answers for a question')"
   ]
  },
  {
   "cell_type": "code",
   "execution_count": 50,
   "metadata": {},
   "outputs": [
    {
     "name": "stdout",
     "output_type": "stream",
     "text": [
      "4\n"
     ]
    },
    {
     "data": {
      "image/png": "[encoded data removed]",
      "text/plain": [
       "<Figure size 360x360 with 1 Axes>"
      ]
     },
     "metadata": {},
     "output_type": "display_data"
    }
   ],
   "source": [
    "squad_dataset['answer_length'] = [len(i.split(' ')) for i in squad_dataset.answer]\n",
    "fin = list(squad_dataset.answer_length)\n",
    "chart(fin,'pie','length of each answer for a question')"
   ]
  },
  {
   "cell_type": "code",
   "execution_count": 51,
   "metadata": {},
   "outputs": [],
   "source": [
    "who_qns = squad_dataset[squad_dataset['question_word']=='who']"
   ]
  },
  {
   "cell_type": "code",
   "execution_count": 52,
   "metadata": {},
   "outputs": [],
   "source": [
    "who_qns = who_qns.sample(frac=1)"
   ]
  },
  {
   "cell_type": "code",
   "execution_count": 53,
   "metadata": {},
   "outputs": [],
   "source": [
    "who_qns = who_qns[(who_qns['no_of_answers']==1) & (who_qns['answer_length']==2)]"
   ]
  },
  {
   "cell_type": "code",
   "execution_count": 54,
   "metadata": {},
   "outputs": [
    {
     "data": {
      "text/plain": [
       "3542"
      ]
     },
     "execution_count": 54,
     "metadata": {},
     "output_type": "execute_result"
    }
   ],
   "source": [
    "len(who_qns)"
   ]
  },
  {
   "cell_type": "code",
   "execution_count": 45,
   "metadata": {},
   "outputs": [
    {
     "data": {
      "text/plain": [
       "'proper noun'"
      ]
     },
     "execution_count": 45,
     "metadata": {},
     "output_type": "execute_result"
    }
   ],
   "source": [
    "spacy.explain('PROPN')"
   ]
  },
  {
   "cell_type": "code",
   "execution_count": 71,
   "metadata": {},
   "outputs": [],
   "source": [
    "fin = []\n",
    "for i,j in who_qns.iterrows():\n",
    "#     print('Question:',j[0],'\\n')\n",
    "#     print('Context:',j[1])\n",
    "#     print('Answer:',j[2],'\\n')\n",
    "    \n",
    "    ans_wrd = j[2].split(\" \")[0]\n",
    "    ans_wrd_len = len(j[2].split(\" \"))\n",
    "    \n",
    "    doc = nlp(j[1])\n",
    "    flag=False\n",
    "    for ent in doc:\n",
    "        \n",
    "        if flag==True:\n",
    "            s=s+\" \"+ent.pos_\n",
    "            fin.append(s)\n",
    "            flag=False\n",
    "            continue\n",
    "            \n",
    "        if ans_wrd == ent.text:\n",
    "            if ans_wrd_len>1:\n",
    "                flag=True\n",
    "                s=ent.pos_\n",
    "            else:\n",
    "                s = ent.pos_\n",
    "                fin.append(s)"
   ]
  },
  {
   "cell_type": "code",
   "execution_count": 72,
   "metadata": {},
   "outputs": [
    {
     "name": "stdout",
     "output_type": "stream",
     "text": [
      "6\n"
     ]
    },
    {
     "data": {
      "image/png": "[encoded data removed]",
      "text/plain": [
       "<Figure size 360x360 with 1 Axes>"
      ]
     },
     "metadata": {},
     "output_type": "display_data"
    }
   ],
   "source": [
    "chart(fin,'pie',None)"
   ]
  },
  {
   "cell_type": "code",
   "execution_count": 57,
   "metadata": {},
   "outputs": [],
   "source": [
    "def extract(nlp, text, patterns, re_patterns):\n",
    "    \"\"\"Extracts the pieces in text maching the POS pattern in patterns\n",
    "\n",
    "    args:\n",
    "        nlp : Loaded Spicy model object\n",
    "        text: The input text\n",
    "        patterns: The list of patters to be searched\n",
    "        re_patterns: The patterns converted into regex\n",
    "\n",
    "    returns: A list of tuples of form (t,p) where \n",
    "    t is the part of text matching the pattern p in patterns\n",
    "    \"\"\"\n",
    "    doc = nlp(text)   \n",
    "    matches = list()\n",
    "    text_pos = \" \".join([token.text+\"_!\"+token.pos_ for token in doc])\n",
    "    for i, pattern in enumerate(re_patterns):\n",
    "        for result in re.findall(pattern, text_pos):\n",
    "#             matches.append(list(set([\" \".join(result), patterns[i]])))\n",
    "              matches.append(\" \".join(result))  \n",
    "    return ','.join(set(matches))"
   ]
  },
  {
   "cell_type": "code",
   "execution_count": 58,
   "metadata": {},
   "outputs": [],
   "source": [
    "# Patters we are intrested in \n",
    "patterns = [\"DET NOUN\",\"NOUN NOUN\",\"DET ADJ\",\"ADJ NOUN\",\"PROPN NOUN\",\"PROPN PROPN\",\"NOUN PROPN\"]\n",
    "\n",
    "# Convert each pattern into regular expression\n",
    "re_patterns = [\" \".join([\"(\\w+)_!\"+pos for pos in p.split()]) for p in patterns]"
   ]
  },
  {
   "cell_type": "code",
   "execution_count": 59,
   "metadata": {},
   "outputs": [],
   "source": [
    "result=[]\n",
    "for i,j in who_qns.iterrows():\n",
    "    result.append(extract(nlp,j[1],patterns,re_patterns))"
   ]
  },
  {
   "cell_type": "code",
   "execution_count": 60,
   "metadata": {},
   "outputs": [],
   "source": [
    "who_qns['pos_matched_tokens'] = result"
   ]
  },
  {
   "cell_type": "code",
   "execution_count": 61,
   "metadata": {},
   "outputs": [],
   "source": [
    "who_qns['no_of_matched_keywords'] = [len(i.split(',')) for i in who_qns['pos_matched_tokens']]"
   ]
  },
  {
   "cell_type": "code",
   "execution_count": 62,
   "metadata": {},
   "outputs": [
    {
     "name": "stdout",
     "output_type": "stream",
     "text": [
      "Average no of keywords obtained: 26.339638622247318\n"
     ]
    }
   ],
   "source": [
    "print('Average no of keywords obtained:',who_qns['no_of_matched_keywords'].mean())"
   ]
  },
  {
   "cell_type": "code",
   "execution_count": 63,
   "metadata": {},
   "outputs": [
    {
     "name": "stdout",
     "output_type": "stream",
     "text": [
      "20\n"
     ]
    },
    {
     "data": {
      "image/png": "[encoded data removed]",
      "text/plain": [
       "<Figure size 1440x1440 with 1 Axes>"
      ]
     },
     "metadata": {
      "needs_background": "light"
     },
     "output_type": "display_data"
    }
   ],
   "source": [
    "fin = list(who_qns['no_of_matched_keywords'])\n",
    "chart(fin,'bar','matched_keyword_count')"
   ]
  },
  {
   "cell_type": "code",
   "execution_count": 64,
   "metadata": {},
   "outputs": [],
   "source": [
    "who_qns['isanswerPresent'] = who_qns.apply(lambda x: x.answer in x.pos_matched_tokens, axis=1)"
   ]
  },
  {
   "cell_type": "code",
   "execution_count": 73,
   "metadata": {},
   "outputs": [
    {
     "name": "stdout",
     "output_type": "stream",
     "text": [
      "2\n"
     ]
    },
    {
     "data": {
      "image/png": "[encoded data removed]",
      "text/plain": [
       "<Figure size 360x360 with 1 Axes>"
      ]
     },
     "metadata": {},
     "output_type": "display_data"
    }
   ],
   "source": [
    "fin = list(who_qns['isanswerPresent'])\n",
    "chart(fin,'pie','isanswerPresent_in_posmatchedkeywords')\n",
    "#2787 , 755"
   ]
  },
  {
   "cell_type": "code",
   "execution_count": 42,
   "metadata": {},
   "outputs": [],
   "source": [
    "who_qns = who_qns[['question','context','answer','pos_matched_tokens','no_of_matched_keywords','isanswerPresent']]"
   ]
  },
  {
   "cell_type": "code",
   "execution_count": 43,
   "metadata": {},
   "outputs": [],
   "source": [
    "who_qns.to_csv('Who_analysis.csv')"
   ]
  },
  {
   "cell_type": "code",
   "execution_count": 24,
   "metadata": {},
   "outputs": [
    {
     "name": "stdout",
     "output_type": "stream",
     "text": [
      "Question: who accused the arab government of practicing acts of racism? \n",
      "\n",
      "Answer: george ayittey \n",
      "\n",
      "american NORP\n",
      "Question: who wrote \"childe harold's pilgrimage: canto i\"? \n",
      "\n",
      "Answer: lord byron \n",
      "\n",
      "today DATE\n",
      "Question: who discussed emotions in the context of expressive body actions and cultural labels? \n",
      "\n",
      "Answer: peggy thoits \n",
      "\n",
      "one CARDINAL\n",
      "william james PERSON\n",
      "Question: who did hoyte van hoytema replace as cinematographer? \n",
      "\n",
      "Answer: roger deakins \n",
      "\n",
      "2013 DATE\n",
      "24 CARDINAL\n",
      "first ORDINAL\n",
      "two CARDINAL\n",
      "1987 DATE\n",
      "1989 DATE\n",
      "john logan PERSON\n",
      "sixth ORDINAL\n",
      "4 CARDINAL\n",
      "mendes PERSON\n",
      "craig dennis PERSON\n",
      "july 2015 DATE\n",
      "over one thousand CARDINAL\n",
      "craig PERSON\n",
      "Question: who authored whitehead's biography that is considered to be the most reliable description of whitehead's life? \n",
      "\n",
      "Answer: victor lowe \n",
      "\n",
      "two CARDINAL\n",
      "first ORDINAL\n"
     ]
    }
   ],
   "source": [
    "for i,j in who_qns.iloc[:5].iterrows():\n",
    "    print('Question:',j[0],'\\n')\n",
    "#     print('Context:',j[1])\n",
    "    print('Answer:',j[2],'\\n')\n",
    "    ans_wrd = j[2].split(\" \")[0]\n",
    "    doc = nlp(j[1])\n",
    "    for ent in doc.ents:\n",
    "#         if ent.text == ans_wrd:\n",
    "                print(ent.text,ent.label_)"
   ]
  },
  {
   "cell_type": "code",
   "execution_count": null,
   "metadata": {},
   "outputs": [],
   "source": []
  }
 ],
 "metadata": {
  "kernelspec": {
   "display_name": "Python 3",
   "language": "python",
   "name": "python3"
  }
 },
 "nbformat": 4,
 "nbformat_minor": 4
}
