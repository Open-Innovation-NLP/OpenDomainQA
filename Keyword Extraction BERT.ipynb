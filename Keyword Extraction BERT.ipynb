{
 "cells": [
  {
   "cell_type": "code",
   "execution_count": null,
   "metadata": {},
   "outputs": [],
   "source": [
    "# !python -m spacy download en_core_web_lg\n",
    "# !python -m spacy download en_core_web_sm"
   ]
  },
  {
   "cell_type": "code",
   "execution_count": 1,
   "metadata": {},
   "outputs": [],
   "source": [
    "import pandas as pd\n",
    "from keybert import KeyBERT\n",
    "from flair.embeddings import TransformerDocumentEmbeddings\n",
    "import re \n",
    "\n",
    "import spacy\n",
    "nlp = spacy.load(\"en_core_web_sm\")\n",
    "\n",
    "from nltk.corpus import stopwords \n",
    "stop_words = set(stopwords.words('english')) \n",
    "\n",
    "\n",
    "pd.set_option('display.max_rows', None)\n",
    "pd.set_option('display.max_columns', None)\n",
    "pd.set_option('display.max_colwidth', None)"
   ]
  },
  {
   "cell_type": "code",
   "execution_count": 2,
   "metadata": {},
   "outputs": [],
   "source": [
    "sample = pd.read_pickle(r'C:\\Users\\guruvayura.ravic\\Documents\\OpenInnov\\Dataset\\sample_set.pkl')\n",
    "df = pd.DataFrame(sample,columns=['questions','supportingdocs','prediction'])"
   ]
  },
  {
   "cell_type": "code",
   "execution_count": 3,
   "metadata": {},
   "outputs": [],
   "source": [
    "keywords = ['what','why','where','when','is','how','can','does','if']\n",
    "df['keywords'] = df['questions'].str.findall('|'.join(keywords)).apply(set).str.join(', ')\n",
    "qn_dict={\n",
    "    'what':'PRODUCT',\n",
    "    'why':'EVENT',\n",
    "    'where':['GPE','LOC','FAC'],\n",
    "    'when':['DATE','TIME'],\n",
    "    'is':'PRODUCT',\n",
    "    'how':['PRODUCT','CARDINAL'],\n",
    "    'can':'PRODUCT',\n",
    "    'does':'PRODUCT',\n",
    "    'if':'PRODUCT'\n",
    "}"
   ]
  },
  {
   "cell_type": "code",
   "execution_count": 9,
   "metadata": {},
   "outputs": [],
   "source": [
    "# Patters we are intrested in \n",
    "patterns = [\"ADJ NOUN\", \"NOUN NOUN\",\"NOUN NOUN NOUN\",\"PROPN NOUN\"]\n",
    "\n",
    "# Convert each pattern into regular expression\n",
    "re_patterns = [\" \".join([\"(\\w+)_!\"+pos for pos in p.split()]) for p in patterns]\n",
    "\n",
    "\n",
    "def extract(nlp, text, patterns, re_patterns):\n",
    "    \"\"\"Extracts the pieces in text maching the POS pattern in patterns\n",
    "\n",
    "    args:\n",
    "        nlp : Loaded Spicy model object\n",
    "        text: The input text\n",
    "        patterns: The list of patters to be searched\n",
    "        re_patterns: The patterns converted into regex\n",
    "\n",
    "    returns: A list of tuples of form (t,p) where \n",
    "    t is the part of text matching the pattern p in patterns\n",
    "    \"\"\"\n",
    "    doc = nlp(text)   \n",
    "    matches = list()\n",
    "    text_pos = \" \".join([token.text+\"_!\"+token.pos_ for token in doc])\n",
    "    for i, pattern in enumerate(re_patterns):\n",
    "        for result in re.findall(pattern, text_pos):\n",
    "            matches.append([\" \".join(result), patterns[i]])\n",
    "    return matches"
   ]
  },
  {
   "cell_type": "code",
   "execution_count": 10,
   "metadata": {},
   "outputs": [
    {
     "name": "stdout",
     "output_type": "stream",
     "text": [
      "Question: why does sky appear blue in color? \n",
      "\n",
      "Supporting Document:\n",
      "\n",
      " ambient light; red objects appear to darken faster than blue objects as the level of illumination goes down. There is much variation in the color of the sky as reproduced in published images, since many of those images have used filters to maximize their scientific value and are not trying to show true color. For many years, the sky on Mars was thought to be more pinkish than it is now believed to be.\n",
      "It is now known that during the Martian day, the sky is a butterscotch color.  Around sunset and sunrise, the sky is rose in color, but \n",
      "\n",
      "[['ambient light', 'ADJ NOUN'], ['red objects', 'ADJ NOUN'], ['blue objects', 'ADJ NOUN'], ['much variation', 'ADJ NOUN'], ['scientific value', 'ADJ NOUN'], ['true color', 'ADJ NOUN'], ['many years', 'ADJ NOUN'], ['more pinkish', 'ADJ NOUN'], ['Martian day', 'ADJ NOUN'], ['butterscotch color', 'NOUN NOUN']]\n",
      "Question: why does sky appear blue in color? \n",
      "\n",
      "Supporting Document:\n",
      "\n",
      " pH. Purple mountains phenomenon It has been observed that the greater the distance between a viewers eyes and mountains, the lighter and more blue or purple they will appear. This phenomenon, long recognized by Leonardo da Vinci and other painters, is called aerial perspective or atmospheric perspective. The more distant the mountains are, the less contrast the eye sees between the mountains and the sky.\n",
      "The bluish color is caused by an optical effect called Rayleigh scattering. The sunlit sky is blue because air scatters short-wavelength light more than longer wavelengths. Since blue light is at the short wavelength end of \n",
      "\n",
      "[['other painters', 'ADJ NOUN'], ['aerial perspective', 'ADJ NOUN'], ['atmospheric perspective', 'ADJ NOUN'], ['less contrast', 'ADJ NOUN'], ['bluish color', 'ADJ NOUN'], ['optical effect', 'ADJ NOUN'], ['sunlit sky', 'ADJ NOUN'], ['longer wavelengths', 'ADJ NOUN'], ['blue light', 'ADJ NOUN'], ['short wavelength', 'ADJ NOUN'], ['mountains phenomenon', 'NOUN NOUN'], ['viewers eyes', 'NOUN NOUN'], ['air scatters', 'NOUN NOUN'], ['wavelength light', 'NOUN NOUN'], ['wavelength end', 'NOUN NOUN'], ['Purple mountains', 'PROPN NOUN'], ['Rayleigh scattering', 'PROPN NOUN']]\n",
      "Question: how do earthquakes happen ? \n",
      "\n",
      "Supporting Document:\n",
      "\n",
      " prolonged material on the objects. Earthquakes related to volcanism Earthquakes can occur due to volcanic activity. These earthquakes could produce topographical deformation and/or destruction of buildings, homes, cars, etc. There are two different types of these earthquakes: volcano tectonic earthquakes and long period earthquakes. \"Earthquakes produced by stress changes in solid rock due to the injection or withdrawal of magma (molton rock) are called volcano tectonic earthquakes\". These are hazardous due to the possibility of ground cracks or slope failures, therefore destroying everything in its path. Long period earthquakes, which happen when magma is suddenly forced into the surrounding rocks, \n",
      "\n",
      "[['volcanic activity', 'ADJ NOUN'], ['topographical deformation', 'ADJ NOUN'], ['different types', 'ADJ NOUN'], ['tectonic earthquakes', 'ADJ NOUN'], ['long period', 'ADJ NOUN'], ['solid rock', 'ADJ NOUN'], ['tectonic earthquakes', 'ADJ NOUN'], ['Long period', 'ADJ NOUN'], ['volcanism Earthquakes', 'NOUN NOUN'], ['period earthquakes', 'NOUN NOUN'], ['stress changes', 'NOUN NOUN'], ['molton rock', 'NOUN NOUN'], ['ground cracks', 'NOUN NOUN'], ['slope failures', 'NOUN NOUN'], ['period earthquakes', 'NOUN NOUN']]\n",
      "Question: how do earthquakes happen ? \n",
      "\n",
      "Supporting Document:\n",
      "\n",
      " fully restored. Earthquakes Earthquakes happen as a result of a sudden release of energy in the earth's crust that creates seismic waves. On the surface of the earth this results in the shaking and sometimes displacement of the ground. Depending on the intensity of the earthquake this shaking or displacement can result in huge amounts of damage to property and loss of life. Earthquakes can also trigger other disasters that can elevate the amount of destruction or pose new threats not associated with the actual earthquake. \n",
      "Some examples of threats that earthquakes cause are landslides, avalanches, fires, soil liquefaction, tsunamis, \n",
      "\n",
      "[['sudden release', 'ADJ NOUN'], ['seismic waves', 'ADJ NOUN'], ['huge amounts', 'ADJ NOUN'], ['other disasters', 'ADJ NOUN'], ['new threats', 'ADJ NOUN'], ['actual earthquake', 'ADJ NOUN'], ['Earthquakes Earthquakes', 'NOUN NOUN'], ['soil liquefaction', 'NOUN NOUN']]\n",
      "Question: why is it difficult to breathe at high altitudes? \n",
      "\n",
      "Supporting Document:\n",
      "\n",
      " air pressure within the breathing system must be lower than it would be at low altitudes in order for inhalation to occur. Therefore, inhalation at high altitudes typically involves a relatively greater lowering of the thoracic diaphragm than at low altitudes. \n",
      "\n",
      "[['low altitudes', 'ADJ NOUN'], ['high altitudes', 'ADJ NOUN'], ['greater lowering', 'ADJ NOUN'], ['low altitudes', 'ADJ NOUN'], ['air pressure', 'NOUN NOUN'], ['breathing system', 'NOUN NOUN'], ['thoracic diaphragm', 'NOUN NOUN']]\n",
      "Question: how does Tsunami occur? \n",
      "\n",
      "Supporting Document:\n",
      "\n",
      " displacements associated with tsunami earthquakes are consistently greater than those associated with ordinary tsunamigenic earthquakes of the same moment magnitude, typically more than double. Rupture velocities for tsunami earthquakes are typically about 1.0 km per second, compared to the more normal 2.5–3.5 km per second for other megathrust earthquakes. These slow rupture speeds lead to greater directivity, with the potential to cause higher run-ups on short coastal sections. Tsunami earthquakes mainly occur at subduction zones where there is a large accretionary wedge or where sediments are being subducted, as this weaker material leads to the slower rupture velocities. Cause Analysis of tsunami \n",
      "\n",
      "[['tsunamigenic earthquakes', 'ADJ NOUN'], ['same moment', 'ADJ NOUN'], ['other megathrust', 'ADJ NOUN'], ['slow rupture', 'ADJ NOUN'], ['greater directivity', 'ADJ NOUN'], ['higher run', 'ADJ NOUN'], ['coastal sections', 'ADJ NOUN'], ['accretionary wedge', 'ADJ NOUN'], ['weaker material', 'ADJ NOUN'], ['slower rupture', 'ADJ NOUN'], ['tsunami earthquakes', 'NOUN NOUN'], ['moment magnitude', 'NOUN NOUN'], ['Rupture velocities', 'NOUN NOUN'], ['tsunami earthquakes', 'NOUN NOUN'], ['megathrust earthquakes', 'NOUN NOUN'], ['rupture speeds', 'NOUN NOUN'], ['Tsunami earthquakes', 'NOUN NOUN'], ['subduction zones', 'NOUN NOUN'], ['rupture velocities', 'NOUN NOUN']]\n",
      "Question: why cyclones often happen in Bay of Bengal? \n",
      "\n",
      "Supporting Document:\n",
      "\n",
      " weather systems that generate moderate amounts of rain. Cyclones Tropical cyclones, which are severe storms spun off from the Intertropical Convergence Zone, may affect thousands of Indians living in coastal regions. Tropical cyclogenesis is particularly common in the northern reaches of the Indian Ocean in and around the Bay of Bengal. Cyclones bring with them heavy rains, storm surges, and winds that often cut affected areas off from relief and supplies. In the North Indian Ocean Basin, the cyclone season runs from April to December, with peak activity between May and November. Each year, an average of eight storms with \n",
      "\n",
      "[['moderate amounts', 'ADJ NOUN'], ['Tropical cyclones', 'ADJ NOUN'], ['severe storms', 'ADJ NOUN'], ['coastal regions', 'ADJ NOUN'], ['Tropical cyclogenesis', 'ADJ NOUN'], ['northern reaches', 'ADJ NOUN'], ['heavy rains', 'ADJ NOUN'], ['affected areas', 'ADJ NOUN'], ['peak activity', 'ADJ NOUN'], ['weather systems', 'NOUN NOUN'], ['cyclone season', 'NOUN NOUN']]\n",
      "Question: why cyclones often happen in Bay of Bengal? \n",
      "\n",
      "Supporting Document:\n",
      "\n",
      " Bay of Bengal is subject to intense heating, giving rise to humid and unstable air masses that produce cyclones. Many powerful cyclones, including the 1737 Calcutta cyclone, the 1970 Bhola cyclone, the 1991 Bangladesh cyclone and the 1999 Odisha cyclone and the most latest cyclone fani in Odisha and cyclone vayuu in gujrat have led to widespread devastation along parts of the eastern coast of India and neighboring Bangladesh. Widespread death and property destruction are reported every year in exposed Tamil Nadu, and West Bengal. India's western coast, bordering the more placid Arabian Sea, experiences cyclones only rarely; these mainly \n",
      "\n",
      "[['intense heating', 'ADJ NOUN'], ['unstable air', 'ADJ NOUN'], ['powerful cyclones', 'ADJ NOUN'], ['latest cyclone', 'ADJ NOUN'], ['widespread devastation', 'ADJ NOUN'], ['eastern coast', 'ADJ NOUN'], ['Widespread death', 'ADJ NOUN'], ['western coast', 'ADJ NOUN'], ['air masses', 'NOUN NOUN'], ['cyclone fani', 'NOUN NOUN'], ['cyclone vayuu', 'NOUN NOUN'], ['property destruction', 'NOUN NOUN'], ['Calcutta cyclone', 'PROPN NOUN'], ['Bhola cyclone', 'PROPN NOUN'], ['Bangladesh cyclone', 'PROPN NOUN'], ['Odisha cyclone', 'PROPN NOUN']]\n",
      "Question: why cyclones often happen in Bay of Bengal? \n",
      "\n",
      "Supporting Document:\n",
      "\n",
      " only separated by 12 nautical miles. Indian Government protests periodically against Sri Lankan navy for its alleged involvement in attacks on Indian fishermen. The incidents continue to happen and over 530 fishermen have been killed in the last 30 years. Weather patterns The Bay of Bengal is responsible for the formation of some of the strongest and deadliest tropical cyclones in the world. The basin is abbreviated \"BOB\" by the India Meteorological Department (IMD), the official Regional Specialized Meteorological Center of the basin.The basin is mostly affected by tropical cyclone.\n",
      "According to official estimates, more than 10,000 people were killed and \n",
      "\n",
      "[['nautical miles', 'ADJ NOUN'], ['alleged involvement', 'ADJ NOUN'], ['Indian fishermen', 'ADJ NOUN'], ['tropical cyclones', 'ADJ NOUN'], ['tropical cyclone', 'ADJ NOUN'], ['official estimates', 'ADJ NOUN'], ['Weather patterns', 'NOUN NOUN'], ['Lankan navy', 'PROPN NOUN']]\n"
     ]
    }
   ],
   "source": [
    "mfin=[]\n",
    "for i,j in df.iterrows():\n",
    "    \n",
    "    qnwrds = df.iloc[i][3].split(',')\n",
    "    qn=qnwrds[0]\n",
    "    \n",
    "    sdocs=df.iloc[i][1]\n",
    "    \n",
    "    for d in sdocs:\n",
    "        \n",
    "        kw=''\n",
    "        print('Question:',df.iloc[i][0],'\\n')\n",
    "        \n",
    "#         res = []        \n",
    "#         d = d.lower()\n",
    "#         txt = re.sub('[^a-zA-Z]+', ' ', d).split(' ')\n",
    "#         [res.append(x) for x in txt if x not in res]\n",
    "#         txt = ' '.join([wrd for wrd in res if wrd not in stop_words])\n",
    "        \n",
    "        print('Supporting Document:\\n\\n',d,'\\n')\n",
    "        \n",
    "#         doc = nlp(d)\n",
    "        \n",
    "#         for ent in doc:\n",
    "#             print(ent.text , ent.pos_)\n",
    "        \n",
    "        \n",
    "        \n",
    "        print (extract(nlp, d , patterns, re_patterns))"
   ]
  },
  {
   "cell_type": "code",
   "execution_count": null,
   "metadata": {},
   "outputs": [],
   "source": [
    "df['keywords'] = mfin"
   ]
  },
  {
   "cell_type": "code",
   "execution_count": null,
   "metadata": {},
   "outputs": [],
   "source": [
    "df.to_csv('Keywords.csv')"
   ]
  },
  {
   "cell_type": "code",
   "execution_count": 47,
   "metadata": {},
   "outputs": [
    {
     "data": {
      "text/plain": [
       "'C:\\\\Users\\\\guruvayura.ravic\\\\Documents\\\\OpenInnov\\\\Notebooks'"
      ]
     },
     "execution_count": 47,
     "metadata": {},
     "output_type": "execute_result"
    }
   ],
   "source": [
    "import os\n",
    "os.path.dirname(os.path.abspath(\"__file__\"))"
   ]
  },
  {
   "cell_type": "code",
   "execution_count": null,
   "metadata": {},
   "outputs": [],
   "source": []
  },
  {
   "cell_type": "code",
   "execution_count": null,
   "metadata": {},
   "outputs": [],
   "source": []
  },
  {
   "cell_type": "code",
   "execution_count": null,
   "metadata": {},
   "outputs": [],
   "source": []
  },
  {
   "cell_type": "code",
   "execution_count": 25,
   "metadata": {},
   "outputs": [
    {
     "data": {
      "text/plain": [
       "'object predicate'"
      ]
     },
     "execution_count": 25,
     "metadata": {},
     "output_type": "execute_result"
    }
   ],
   "source": [
    "spacy.explain('oprd')"
   ]
  },
  {
   "cell_type": "code",
   "execution_count": 44,
   "metadata": {},
   "outputs": [
    {
     "name": "stdout",
     "output_type": "stream",
     "text": [
      "The \t DT \t DET \t det\n",
      "sky \t NN \t NOUN \t nsubj\n",
      "is \t VBZ \t AUX \t ROOT\n",
      "blue \t JJ \t ADJ \t acomp\n",
      "due \t JJ \t ADJ \t prep\n",
      "to \t IN \t ADP \t pcomp\n",
      "a \t DT \t DET \t det\n",
      "phenomenon \t NN \t NOUN \t pobj\n",
      "called \t VBN \t VERB \t acl\n",
      "Raleigh \t NNP \t PROPN \t compound\n",
      "scattering \t NN \t NOUN \t oprd\n",
      ". \t . \t PUNCT \t punct\n",
      "This \t DT \t DET \t det\n",
      "scattering \t NN \t NOUN \t nsubj\n",
      "refers \t VBZ \t VERB \t ROOT\n",
      "to \t IN \t ADP \t prep\n",
      "the \t DT \t DET \t det\n",
      "scattering \t NN \t NOUN \t pobj\n",
      "of \t IN \t ADP \t prep\n",
      "electromagnetic \t JJ \t ADJ \t amod\n",
      "radiation \t NN \t NOUN \t pobj\n",
      "( \t -LRB- \t PUNCT \t punct\n",
      "of \t IN \t ADP \t prep\n",
      "which \t WDT \t DET \t det\n",
      "light \t NN \t NOUN \t nsubj\n",
      "is \t VBZ \t VERB \t relcl\n",
      "a \t DT \t DET \t det\n",
      "form \t NN \t NOUN \t attr\n",
      ") \t -RRB- \t PUNCT \t punct\n",
      "by \t IN \t ADP \t prep\n",
      "particles \t NNS \t NOUN \t pobj\n",
      "of \t IN \t ADP \t prep\n",
      "a \t DT \t DET \t det\n",
      "much \t RB \t ADV \t advmod\n",
      "smaller \t JJR \t ADJ \t amod\n",
      "wavelength \t NN \t NOUN \t pobj\n",
      ". \t . \t PUNCT \t punct\n",
      "These \t DT \t DET \t det\n",
      "shorter \t JJR \t ADJ \t amod\n",
      "wavelengths \t NNS \t NOUN \t nsubj\n",
      "correspond \t VB \t VERB \t ROOT\n",
      "to \t IN \t ADP \t prep\n",
      "blue \t JJ \t ADJ \t amod\n",
      "hues \t NNS \t NOUN \t pobj\n",
      ", \t , \t PUNCT \t punct\n",
      "hence \t RB \t ADV \t advmod\n",
      "why \t WRB \t ADV \t advmod\n",
      "when \t WRB \t ADV \t advmod\n",
      "we \t PRP \t PRON \t nsubj\n",
      "look \t VBP \t VERB \t advcl\n",
      "at \t IN \t ADP \t prep\n",
      "the \t DT \t DET \t det\n",
      "sky \t NN \t NOUN \t pobj\n",
      ", \t , \t PUNCT \t punct\n",
      "we \t PRP \t PRON \t nsubj\n",
      "see \t VBP \t VERB \t conj\n",
      "it \t PRP \t PRON \t dobj\n",
      "as \t IN \t ADP \t prep\n",
      "blue \t JJ \t ADJ \t ROOT\n"
     ]
    }
   ],
   "source": [
    "text = \"The sky is blue due to a phenomenon called Raleigh scattering. This scattering refers to the scattering of electromagnetic radiation (of which light is a form) by particles of a much smaller wavelength.These shorter wavelengths correspond to blue hues, hence why when we look at the sky, we see it as blue\"\n",
    "# text = \"The games were postponed last week due to the COVID-19 pandemic.The Olympic Games Tokyo 2020 will be celebrated from 23 July to 8 August 2021, the IOC said Monday. It added that the Paralympic Games will follow, running from Aug\"\n",
    "# text = \"Elon Musk is a great entrepreneur and lives in Ohio\"\n",
    "doc = nlp(text)\n",
    "for nc in doc:\n",
    "#     print(nc.root.text, nc.root.dep_,nc.root.head.text)\n",
    "    print(nc.text,'\\t',nc.tag_,'\\t',nc.pos_,'\\t',nc.dep_)"
   ]
  },
  {
   "cell_type": "code",
   "execution_count": 42,
   "metadata": {},
   "outputs": [
    {
     "data": {
      "text/plain": [
       "['pH',\n",
       " ' Purple mountains phenomenon It has been observed that the greater the distance between a viewers eyes and mountains, the lighter and more blue or purple they will appear',\n",
       " ' This phenomenon, long recognized by Leonardo da Vinci and other painters, is called aerial perspective or atmospheric perspective',\n",
       " ' The more distant the mountains are, the less contrast the eye sees between the mountains and the sky',\n",
       " '\\nThe bluish color is caused by an optical effect called Rayleigh scattering',\n",
       " ' The sunlit sky is blue because air scatters short-wavelength light more than longer wavelengths',\n",
       " ' Since blue light is at the short wavelength end of']"
      ]
     },
     "execution_count": 42,
     "metadata": {},
     "output_type": "execute_result"
    }
   ],
   "source": [
    "df.iloc[0][1][1].split('.')"
   ]
  },
  {
   "cell_type": "code",
   "execution_count": null,
   "metadata": {},
   "outputs": [],
   "source": []
  }
 ],
 "metadata": {
  "kernelspec": {
   "display_name": "Python 3",
   "language": "python",
   "name": "python3"
  },
  "language_info": {
   "codemirror_mode": {
    "name": "ipython",
    "version": 3
   },
   "file_extension": ".py",
   "mimetype": "text/x-python",
   "name": "python",
   "nbconvert_exporter": "python",
   "pygments_lexer": "ipython3",
   "version": "3.7.6"
  }
 },
 "nbformat": 4,
 "nbformat_minor": 4
}
